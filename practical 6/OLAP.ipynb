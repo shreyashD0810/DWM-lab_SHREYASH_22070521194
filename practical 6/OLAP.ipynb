{
 "cells": [
  {
   "cell_type": "markdown",
   "id": "2116d64c-d616-4275-9861-078b81419464",
   "metadata": {},
   "source": [
    "# To understand and implement OLAP operations on a multi-dimensional data cube."
   ]
  },
  {
   "cell_type": "code",
   "execution_count": 1,
   "id": "2698ae18-8c50-4924-91d1-34509caf1ed9",
   "metadata": {},
   "outputs": [],
   "source": [
    "import pandas as pd\n",
    "df = pd.read_csv(\"sales_data_with_quarter.csv\")\n",
    "\n"
   ]
  },
  {
   "cell_type": "code",
   "execution_count": 3,
   "id": "dade03fb-5929-4fbb-9088-6a7bb91f4b72",
   "metadata": {},
   "outputs": [
    {
     "name": "stdout",
     "output_type": "stream",
     "text": [
      "<class 'pandas.core.frame.DataFrame'>\n",
      "RangeIndex: 51290 entries, 0 to 51289\n",
      "Data columns (total 12 columns):\n",
      " #   Column        Non-Null Count  Dtype  \n",
      "---  ------        --------------  -----  \n",
      " 0   order_id      51290 non-null  object \n",
      " 1   state         51290 non-null  object \n",
      " 2   country       51290 non-null  object \n",
      " 3   region        51290 non-null  object \n",
      " 4   category      51290 non-null  object \n",
      " 5   sub_category  51290 non-null  object \n",
      " 6   product_name  51290 non-null  object \n",
      " 7   sales         48660 non-null  float64\n",
      " 8   quantity      51290 non-null  int64  \n",
      " 9   profit        51290 non-null  float64\n",
      " 10  year          51290 non-null  int64  \n",
      " 11  Quarter       51290 non-null  object \n",
      "dtypes: float64(2), int64(2), object(8)\n",
      "memory usage: 4.7+ MB\n"
     ]
    }
   ],
   "source": [
    "df['sales'] = pd.to_numeric(df['sales'], errors='coerce')\n",
    "df.info()\n"
   ]
  },
  {
   "cell_type": "code",
   "execution_count": 4,
   "id": "0076fbe2-924a-4b7a-8c90-06602047ce3d",
   "metadata": {
    "scrolled": true
   },
   "outputs": [
    {
     "data": {
      "text/html": [
       "<div>\n",
       "<style scoped>\n",
       "    .dataframe tbody tr th:only-of-type {\n",
       "        vertical-align: middle;\n",
       "    }\n",
       "\n",
       "    .dataframe tbody tr th {\n",
       "        vertical-align: top;\n",
       "    }\n",
       "\n",
       "    .dataframe thead th {\n",
       "        text-align: right;\n",
       "    }\n",
       "</style>\n",
       "<table border=\"1\" class=\"dataframe\">\n",
       "  <thead>\n",
       "    <tr style=\"text-align: right;\">\n",
       "      <th></th>\n",
       "      <th>order_id</th>\n",
       "      <th>state</th>\n",
       "      <th>country</th>\n",
       "      <th>region</th>\n",
       "      <th>category</th>\n",
       "      <th>sub_category</th>\n",
       "      <th>product_name</th>\n",
       "      <th>sales</th>\n",
       "      <th>quantity</th>\n",
       "      <th>profit</th>\n",
       "      <th>year</th>\n",
       "      <th>Quarter</th>\n",
       "    </tr>\n",
       "  </thead>\n",
       "  <tbody>\n",
       "    <tr>\n",
       "      <th>0</th>\n",
       "      <td>AG-2011-2040</td>\n",
       "      <td>Constantine</td>\n",
       "      <td>Algeria</td>\n",
       "      <td>Africa</td>\n",
       "      <td>Office Supplies</td>\n",
       "      <td>Storage</td>\n",
       "      <td>Tenex Lockers, Blue</td>\n",
       "      <td>408.0</td>\n",
       "      <td>2</td>\n",
       "      <td>106.140</td>\n",
       "      <td>2011</td>\n",
       "      <td>Q1</td>\n",
       "    </tr>\n",
       "    <tr>\n",
       "      <th>1</th>\n",
       "      <td>IN-2011-47883</td>\n",
       "      <td>New South Wales</td>\n",
       "      <td>Australia</td>\n",
       "      <td>Oceania</td>\n",
       "      <td>Office Supplies</td>\n",
       "      <td>Supplies</td>\n",
       "      <td>Acme Trimmer, High Speed</td>\n",
       "      <td>120.0</td>\n",
       "      <td>3</td>\n",
       "      <td>36.036</td>\n",
       "      <td>2011</td>\n",
       "      <td>Q1</td>\n",
       "    </tr>\n",
       "    <tr>\n",
       "      <th>2</th>\n",
       "      <td>HU-2011-1220</td>\n",
       "      <td>Budapest</td>\n",
       "      <td>Hungary</td>\n",
       "      <td>EMEA</td>\n",
       "      <td>Office Supplies</td>\n",
       "      <td>Storage</td>\n",
       "      <td>Tenex Box, Single Width</td>\n",
       "      <td>66.0</td>\n",
       "      <td>4</td>\n",
       "      <td>29.640</td>\n",
       "      <td>2011</td>\n",
       "      <td>Q1</td>\n",
       "    </tr>\n",
       "    <tr>\n",
       "      <th>3</th>\n",
       "      <td>IT-2011-3647632</td>\n",
       "      <td>Stockholm</td>\n",
       "      <td>Sweden</td>\n",
       "      <td>North</td>\n",
       "      <td>Office Supplies</td>\n",
       "      <td>Paper</td>\n",
       "      <td>Enermax Note Cards, Premium</td>\n",
       "      <td>45.0</td>\n",
       "      <td>3</td>\n",
       "      <td>-26.055</td>\n",
       "      <td>2011</td>\n",
       "      <td>Q1</td>\n",
       "    </tr>\n",
       "    <tr>\n",
       "      <th>4</th>\n",
       "      <td>IN-2011-47883</td>\n",
       "      <td>New South Wales</td>\n",
       "      <td>Australia</td>\n",
       "      <td>Oceania</td>\n",
       "      <td>Furniture</td>\n",
       "      <td>Furnishings</td>\n",
       "      <td>Eldon Light Bulb, Duo Pack</td>\n",
       "      <td>114.0</td>\n",
       "      <td>5</td>\n",
       "      <td>37.770</td>\n",
       "      <td>2011</td>\n",
       "      <td>Q1</td>\n",
       "    </tr>\n",
       "  </tbody>\n",
       "</table>\n",
       "</div>"
      ],
      "text/plain": [
       "          order_id            state    country   region         category  \\\n",
       "0     AG-2011-2040      Constantine    Algeria   Africa  Office Supplies   \n",
       "1    IN-2011-47883  New South Wales  Australia  Oceania  Office Supplies   \n",
       "2     HU-2011-1220         Budapest    Hungary     EMEA  Office Supplies   \n",
       "3  IT-2011-3647632        Stockholm     Sweden    North  Office Supplies   \n",
       "4    IN-2011-47883  New South Wales  Australia  Oceania        Furniture   \n",
       "\n",
       "  sub_category                 product_name  sales  quantity   profit  year  \\\n",
       "0      Storage          Tenex Lockers, Blue  408.0         2  106.140  2011   \n",
       "1     Supplies     Acme Trimmer, High Speed  120.0         3   36.036  2011   \n",
       "2      Storage      Tenex Box, Single Width   66.0         4   29.640  2011   \n",
       "3        Paper  Enermax Note Cards, Premium   45.0         3  -26.055  2011   \n",
       "4  Furnishings   Eldon Light Bulb, Duo Pack  114.0         5   37.770  2011   \n",
       "\n",
       "  Quarter  \n",
       "0      Q1  \n",
       "1      Q1  \n",
       "2      Q1  \n",
       "3      Q1  \n",
       "4      Q1  "
      ]
     },
     "execution_count": 4,
     "metadata": {},
     "output_type": "execute_result"
    }
   ],
   "source": [
    "df.head()"
   ]
  },
  {
   "cell_type": "markdown",
   "id": "fdb3ba9c-cc29-4107-9c73-cff7251cf26e",
   "metadata": {},
   "source": [
    "# OLAP operations:\n",
    "### 1. Roll-Up (Aggregate Sales by Year)"
   ]
  },
  {
   "cell_type": "code",
   "execution_count": 5,
   "id": "6f50014a-c769-4ef7-b9d0-c03d43c5d91f",
   "metadata": {},
   "outputs": [
    {
     "name": "stdout",
     "output_type": "stream",
     "text": [
      "\n",
      "Roll-Up (Aggregate Sales by Year):\n",
      "   year      sales\n",
      "0  2011  1378151.0\n",
      "1  2012  1681499.0\n",
      "2  2013  2107021.0\n",
      "3  2014  2668457.0\n"
     ]
    }
   ],
   "source": [
    "roll_up = df.groupby('year', as_index=False)['sales'].sum()\n",
    "print(\"\\nRoll-Up (Aggregate Sales by Year):\")\n",
    "print(roll_up)"
   ]
  },
  {
   "cell_type": "markdown",
   "id": "8de50993-d94f-4a09-a638-6aa5966d65fd",
   "metadata": {},
   "source": [
    "\n",
    "#### 2. Drill-Down (Sales by Year and Quarter)"
   ]
  },
  {
   "cell_type": "code",
   "execution_count": 6,
   "id": "f7fe2996-63a0-4b9f-adb6-7c030e10317c",
   "metadata": {},
   "outputs": [
    {
     "name": "stdout",
     "output_type": "stream",
     "text": [
      "\n",
      "Drill-Down (Sales by Year and Quarter):\n",
      "    year Quarter     sales\n",
      "0   2011      Q1  204194.0\n",
      "1   2011      Q2  314760.0\n",
      "2   2011      Q3  361469.0\n",
      "3   2011      Q4  497728.0\n",
      "4   2012      Q1  247151.0\n",
      "5   2012      Q2  409513.0\n",
      "6   2012      Q3  446088.0\n",
      "7   2012      Q4  578747.0\n",
      "8   2013      Q1  320612.0\n",
      "9   2013      Q2  503370.0\n",
      "10  2013      Q3  618061.0\n",
      "11  2013      Q4  664978.0\n",
      "12  2014      Q1  420289.0\n",
      "13  2014      Q2  597313.0\n",
      "14  2014      Q3  741075.0\n",
      "15  2014      Q4  909780.0\n"
     ]
    }
   ],
   "source": [
    "drill_down = df.groupby(['year', 'Quarter'], as_index=False)['sales'].sum()\n",
    "print(\"\\nDrill-Down (Sales by Year and Quarter):\")\n",
    "print(drill_down)"
   ]
  },
  {
   "cell_type": "markdown",
   "id": "45beefa9-ac41-4702-a3fe-55242b989995",
   "metadata": {},
   "source": [
    "#### 3. Slice (Data for Year 2023)"
   ]
  },
  {
   "cell_type": "code",
   "execution_count": 27,
   "id": "0c6239b3-1733-4733-af30-27b517b2e414",
   "metadata": {},
   "outputs": [
    {
     "name": "stdout",
     "output_type": "stream",
     "text": [
      "\n",
      "Slice (Data for Year 2023):\n",
      "       order_id           state        country     region        category sub_category                           product_name  sales  quantity  profit  year Quarter\n",
      "  ID-2013-37383 New South Wales      Australia    oceania      Technology      Copiers            Canon Copy Machine, Digital    NaN         7  36.624  2013      Q1\n",
      "  IN-2013-47960         Tianjin          China north asia       Furniture    Bookcases       Sauder Floating Shelf Set, Metal    NaN         7 203.700  2013      Q1\n",
      "  ID-2013-37383 New South Wales      Australia    oceania      Technology  Accessories        Logitech Memory Card, Erganomic  729.0         8 -32.472  2013      Q1\n",
      "  IN-2013-47960         Tianjin          China north asia       Furniture    Bookcases       Dania Library with Doors, Mobile    NaN         6 372.060  2013      Q1\n",
      "  IN-2013-47960         Tianjin          China north asia       Furniture    Bookcases Sauder Floating Shelf Set, Traditional    NaN         7 340.410  2013      Q1\n",
      "ES-2013-1430889       Aquitaine         France    central Office Supplies   Appliances                  Hoover Toaster, Black  299.0         4 116.292  2013      Q1\n",
      "  IN-2013-77570           Gansu          China north asia       Furniture    Bookcases      Ikea Corner Shelving, Traditional  246.0         2  66.420  2013      Q1\n",
      "ES-2013-5435815         England United Kingdom      north Office Supplies      Storage           Fellowes Trays, Single Width  155.0         3  68.904  2013      Q1\n",
      "  IN-2013-47960         Tianjin          China north asia Office Supplies      Storage           Eldon Shelving, Single Width  242.0         5  12.000  2013      Q1\n",
      "  ID-2013-37383 New South Wales      Australia    oceania Office Supplies      Storage             Fellowes Trays, Industrial  417.0         8  41.544  2013      Q1\n"
     ]
    }
   ],
   "source": [
    "slice_2023 = df[df['year'] == 2013]\n",
    "print(\"\\nSlice (Data for Year 2023):\")\n",
    "print(slice_2023.head(10).to_string(index=False)) \n"
   ]
  },
  {
   "cell_type": "markdown",
   "id": "15ba233d-e329-45a1-84d2-4733c28bf6d8",
   "metadata": {},
   "source": [
    "#### 4. Dice (Sales for Year 2023 and Region 'North America')"
   ]
  },
  {
   "cell_type": "code",
   "execution_count": 23,
   "id": "0ec72e4f-4f2e-4fea-b9a5-cf447d4b5c73",
   "metadata": {},
   "outputs": [
    {
     "name": "stdout",
     "output_type": "stream",
     "text": [
      "\n",
      "Dice (Sales for Year 2013 and Region 'North America'):\n"
     ]
    },
    {
     "data": {
      "text/html": [
       "<div>\n",
       "<style scoped>\n",
       "    .dataframe tbody tr th:only-of-type {\n",
       "        vertical-align: middle;\n",
       "    }\n",
       "\n",
       "    .dataframe tbody tr th {\n",
       "        vertical-align: top;\n",
       "    }\n",
       "\n",
       "    .dataframe thead th {\n",
       "        text-align: right;\n",
       "    }\n",
       "</style>\n",
       "<table border=\"1\" class=\"dataframe\">\n",
       "  <thead>\n",
       "    <tr style=\"text-align: right;\">\n",
       "      <th></th>\n",
       "      <th>order_id</th>\n",
       "      <th>state</th>\n",
       "      <th>country</th>\n",
       "      <th>region</th>\n",
       "      <th>category</th>\n",
       "      <th>sub_category</th>\n",
       "      <th>product_name</th>\n",
       "      <th>sales</th>\n",
       "      <th>quantity</th>\n",
       "      <th>profit</th>\n",
       "      <th>year</th>\n",
       "      <th>Quarter</th>\n",
       "    </tr>\n",
       "  </thead>\n",
       "  <tbody>\n",
       "    <tr>\n",
       "      <th>19967</th>\n",
       "      <td>ES-2013-5435815</td>\n",
       "      <td>England</td>\n",
       "      <td>United Kingdom</td>\n",
       "      <td>north</td>\n",
       "      <td>Office Supplies</td>\n",
       "      <td>Storage</td>\n",
       "      <td>Fellowes Trays, Single Width</td>\n",
       "      <td>155.0</td>\n",
       "      <td>3</td>\n",
       "      <td>68.9040</td>\n",
       "      <td>2013</td>\n",
       "      <td>Q1</td>\n",
       "    </tr>\n",
       "    <tr>\n",
       "      <th>19979</th>\n",
       "      <td>CA-2013-6650</td>\n",
       "      <td>Ontario</td>\n",
       "      <td>Canada</td>\n",
       "      <td>canada</td>\n",
       "      <td>Office Supplies</td>\n",
       "      <td>Art</td>\n",
       "      <td>Sanford Highlighters, Blue</td>\n",
       "      <td>16.0</td>\n",
       "      <td>1</td>\n",
       "      <td>1.7100</td>\n",
       "      <td>2013</td>\n",
       "      <td>Q1</td>\n",
       "    </tr>\n",
       "    <tr>\n",
       "      <th>19986</th>\n",
       "      <td>ES-2013-5114494</td>\n",
       "      <td>England</td>\n",
       "      <td>United Kingdom</td>\n",
       "      <td>north</td>\n",
       "      <td>Furniture</td>\n",
       "      <td>Bookcases</td>\n",
       "      <td>Sauder Floating Shelf Set, Pine</td>\n",
       "      <td>NaN</td>\n",
       "      <td>8</td>\n",
       "      <td>360.4800</td>\n",
       "      <td>2013</td>\n",
       "      <td>Q1</td>\n",
       "    </tr>\n",
       "    <tr>\n",
       "      <th>19987</th>\n",
       "      <td>MX-2013-159583</td>\n",
       "      <td>Yucat n</td>\n",
       "      <td>Mexico</td>\n",
       "      <td>north</td>\n",
       "      <td>Technology</td>\n",
       "      <td>Copiers</td>\n",
       "      <td>Brother Fax Machine, High-Speed</td>\n",
       "      <td>NaN</td>\n",
       "      <td>5</td>\n",
       "      <td>441.2884</td>\n",
       "      <td>2013</td>\n",
       "      <td>Q1</td>\n",
       "    </tr>\n",
       "    <tr>\n",
       "      <th>20000</th>\n",
       "      <td>ES-2013-5588129</td>\n",
       "      <td>England</td>\n",
       "      <td>United Kingdom</td>\n",
       "      <td>north</td>\n",
       "      <td>Office Supplies</td>\n",
       "      <td>Envelopes</td>\n",
       "      <td>GlobeWeis Manila Envelope, Set of 50</td>\n",
       "      <td>164.0</td>\n",
       "      <td>6</td>\n",
       "      <td>54.1800</td>\n",
       "      <td>2013</td>\n",
       "      <td>Q1</td>\n",
       "    </tr>\n",
       "    <tr>\n",
       "      <th>...</th>\n",
       "      <td>...</td>\n",
       "      <td>...</td>\n",
       "      <td>...</td>\n",
       "      <td>...</td>\n",
       "      <td>...</td>\n",
       "      <td>...</td>\n",
       "      <td>...</td>\n",
       "      <td>...</td>\n",
       "      <td>...</td>\n",
       "      <td>...</td>\n",
       "      <td>...</td>\n",
       "      <td>...</td>\n",
       "    </tr>\n",
       "    <tr>\n",
       "      <th>33648</th>\n",
       "      <td>MX-2013-104766</td>\n",
       "      <td>Zacatecas</td>\n",
       "      <td>Mexico</td>\n",
       "      <td>north</td>\n",
       "      <td>Office Supplies</td>\n",
       "      <td>Binders</td>\n",
       "      <td>Acco Binder Covers, Recycled</td>\n",
       "      <td>18.0</td>\n",
       "      <td>2</td>\n",
       "      <td>1.6400</td>\n",
       "      <td>2013</td>\n",
       "      <td>Q4</td>\n",
       "    </tr>\n",
       "    <tr>\n",
       "      <th>33649</th>\n",
       "      <td>MX-2013-157448</td>\n",
       "      <td>Quertaro</td>\n",
       "      <td>Mexico</td>\n",
       "      <td>north</td>\n",
       "      <td>Office Supplies</td>\n",
       "      <td>Storage</td>\n",
       "      <td>Eldon Trays, Wire Frame</td>\n",
       "      <td>63.0</td>\n",
       "      <td>2</td>\n",
       "      <td>12.5200</td>\n",
       "      <td>2013</td>\n",
       "      <td>Q4</td>\n",
       "    </tr>\n",
       "    <tr>\n",
       "      <th>33706</th>\n",
       "      <td>ES-2013-5731775</td>\n",
       "      <td>England</td>\n",
       "      <td>United Kingdom</td>\n",
       "      <td>north</td>\n",
       "      <td>Technology</td>\n",
       "      <td>Machines</td>\n",
       "      <td>Panasonic Printer, Durable</td>\n",
       "      <td>800.0</td>\n",
       "      <td>3</td>\n",
       "      <td>167.9400</td>\n",
       "      <td>2013</td>\n",
       "      <td>Q4</td>\n",
       "    </tr>\n",
       "    <tr>\n",
       "      <th>33731</th>\n",
       "      <td>ES-2013-5731775</td>\n",
       "      <td>England</td>\n",
       "      <td>United Kingdom</td>\n",
       "      <td>north</td>\n",
       "      <td>Office Supplies</td>\n",
       "      <td>Fasteners</td>\n",
       "      <td>Accos Paper Clips, Bulk Pack</td>\n",
       "      <td>71.0</td>\n",
       "      <td>5</td>\n",
       "      <td>26.1000</td>\n",
       "      <td>2013</td>\n",
       "      <td>Q4</td>\n",
       "    </tr>\n",
       "    <tr>\n",
       "      <th>33738</th>\n",
       "      <td>ES-2013-5731775</td>\n",
       "      <td>England</td>\n",
       "      <td>United Kingdom</td>\n",
       "      <td>north</td>\n",
       "      <td>Office Supplies</td>\n",
       "      <td>Storage</td>\n",
       "      <td>Tenex Box, Industrial</td>\n",
       "      <td>34.0</td>\n",
       "      <td>2</td>\n",
       "      <td>15.9600</td>\n",
       "      <td>2013</td>\n",
       "      <td>Q4</td>\n",
       "    </tr>\n",
       "  </tbody>\n",
       "</table>\n",
       "<p>1369 rows × 12 columns</p>\n",
       "</div>"
      ],
      "text/plain": [
       "              order_id      state         country  region         category  \\\n",
       "19967  ES-2013-5435815    England  United Kingdom   north  Office Supplies   \n",
       "19979     CA-2013-6650    Ontario          Canada  canada  Office Supplies   \n",
       "19986  ES-2013-5114494    England  United Kingdom   north        Furniture   \n",
       "19987   MX-2013-159583    Yucat n          Mexico   north       Technology   \n",
       "20000  ES-2013-5588129    England  United Kingdom   north  Office Supplies   \n",
       "...                ...        ...             ...     ...              ...   \n",
       "33648   MX-2013-104766  Zacatecas          Mexico   north  Office Supplies   \n",
       "33649   MX-2013-157448  Quertaro          Mexico   north  Office Supplies   \n",
       "33706  ES-2013-5731775    England  United Kingdom   north       Technology   \n",
       "33731  ES-2013-5731775    England  United Kingdom   north  Office Supplies   \n",
       "33738  ES-2013-5731775    England  United Kingdom   north  Office Supplies   \n",
       "\n",
       "      sub_category                          product_name  sales  quantity  \\\n",
       "19967      Storage          Fellowes Trays, Single Width  155.0         3   \n",
       "19979          Art            Sanford Highlighters, Blue   16.0         1   \n",
       "19986    Bookcases       Sauder Floating Shelf Set, Pine    NaN         8   \n",
       "19987      Copiers       Brother Fax Machine, High-Speed    NaN         5   \n",
       "20000    Envelopes  GlobeWeis Manila Envelope, Set of 50  164.0         6   \n",
       "...            ...                                   ...    ...       ...   \n",
       "33648      Binders          Acco Binder Covers, Recycled   18.0         2   \n",
       "33649      Storage               Eldon Trays, Wire Frame   63.0         2   \n",
       "33706     Machines            Panasonic Printer, Durable  800.0         3   \n",
       "33731    Fasteners          Accos Paper Clips, Bulk Pack   71.0         5   \n",
       "33738      Storage                 Tenex Box, Industrial   34.0         2   \n",
       "\n",
       "         profit  year Quarter  \n",
       "19967   68.9040  2013      Q1  \n",
       "19979    1.7100  2013      Q1  \n",
       "19986  360.4800  2013      Q1  \n",
       "19987  441.2884  2013      Q1  \n",
       "20000   54.1800  2013      Q1  \n",
       "...         ...   ...     ...  \n",
       "33648    1.6400  2013      Q4  \n",
       "33649   12.5200  2013      Q4  \n",
       "33706  167.9400  2013      Q4  \n",
       "33731   26.1000  2013      Q4  \n",
       "33738   15.9600  2013      Q4  \n",
       "\n",
       "[1369 rows x 12 columns]"
      ]
     },
     "metadata": {},
     "output_type": "display_data"
    }
   ],
   "source": [
    "from IPython.display import display\n",
    "dice_2013 = df[(df['year'] == 2013) & (df['region'] == 'Africa')]\n",
    "print(\"\\nDice (Sales for Year 2013 and Region 'North America'):\")\n",
    "display(dice_df)  "
   ]
  },
  {
   "cell_type": "markdown",
   "id": "64b53156-229b-4675-bc16-7aa17a2d1b48",
   "metadata": {},
   "source": [
    "###  Pivot (Rearranging the Cube for Better Analysis)"
   ]
  },
  {
   "cell_type": "code",
   "execution_count": 9,
   "id": "abf29b82-d2ab-4302-9563-43c0902936cc",
   "metadata": {},
   "outputs": [
    {
     "name": "stdout",
     "output_type": "stream",
     "text": [
      "\n",
      "Pivot Table (Sales by Category and Quarter):\n",
      "Quarter                Q1        Q2        Q3        Q4\n",
      "category                                               \n",
      "Furniture        354031.0  548205.0  656279.0  848090.0\n",
      "Office Supplies  430506.0  661541.0  782860.0  915351.0\n",
      "Technology       407709.0  615210.0  727554.0  887792.0\n"
     ]
    }
   ],
   "source": [
    "pivot_table = df.pivot_table(values='sales', index='category', columns='Quarter', aggfunc='sum')\n",
    "print(\"\\nPivot Table (Sales by Category and Quarter):\")\n",
    "print(pivot_table)\n"
   ]
  },
  {
   "cell_type": "markdown",
   "id": "fe81ee94-6325-4a09-8ace-a2d5b6da3c90",
   "metadata": {},
   "source": [
    "## Visualization"
   ]
  },
  {
   "cell_type": "code",
   "execution_count": 11,
   "id": "09879805-4c78-486b-bec3-8e0ae0c64fd3",
   "metadata": {},
   "outputs": [
    {
     "data": {
      "image/png": "[encoded data removed]",
      "text/plain": [
       "<Figure size 640x480 with 1 Axes>"
      ]
     },
     "metadata": {},
     "output_type": "display_data"
    }
   ],
   "source": [
    "import matplotlib.pyplot as plt\n",
    "plt.bar(roll_up['year'], roll_up['sales'])\n",
    "plt.xlabel(\"Year\")\n",
    "plt.ylabel(\"Total Sales\")\n",
    "plt.title(\"Total Sales by Year\")\n",
    "plt.show()"
   ]
  },
  {
   "cell_type": "code",
   "execution_count": null,
   "id": "efb3ecae-ab4a-4a8b-a449-7fe91ebc2734",
   "metadata": {},
   "outputs": [],
   "source": []
  },
  {
   "cell_type": "code",
   "execution_count": 2,
   "id": "b72bb77b-d87a-4272-8e00-e8335715e715",
   "metadata": {},
   "outputs": [],
   "source": [
    "df.drop(['order_date', 'ship_date', 'ship_mode', 'customer_name', \n",
    "         'segment', 'market', 'product_id', 'discount', \n",
    "         'shipping_cost', 'order_priority'], axis=1, inplace=True)\n"
   ]
  }
 ],
 "metadata": {
  "kernelspec": {
   "display_name": "Python 3 (ipykernel)",
   "language": "python",
   "name": "python3"
  },
  "language_info": {
   "codemirror_mode": {
    "name": "ipython",
    "version": 3
   },
   "file_extension": ".py",
   "mimetype": "text/x-python",
   "name": "python",
   "nbconvert_exporter": "python",
   "pygments_lexer": "ipython3",
   "version": "3.12.8"
  }
 },
 "nbformat": 4,
 "nbformat_minor": 5
}
